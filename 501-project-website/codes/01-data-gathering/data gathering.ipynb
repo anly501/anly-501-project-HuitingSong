{
  "cells": [
    {
      "cell_type": "raw",
      "id": "c29edfe0",
      "metadata": {},
      "source": [
        "---\n",
        "title: \"Data Gathering\"\n",
        "format: \n",
        "    html: \n",
        "        code-fold: true\n",
        "        self-contained: true\n",
        "        css: styles.css\n",
        "---"
      ]
    },
    {
      "cell_type": "markdown",
      "id": "ced79102",
      "metadata": {},
      "source": [
        "Data gathering is the process of gathering and measuring information on targeted variables in an established system, which then enables one to answer relevant questions and evaluate outcomes. In this section, I will introduction what kind of tools I used, what kind of data I want to get related to my project, and the meaning of the data. Also, the coding process and data result will be displayed. \n",
        "\n",
        "### Tools for Data Gathering\n",
        " - Twitter API \n",
        "\n",
        " The Twitter API is a set of programmatic endpoints that can be used to understand or build the conversation on Twitter. This API allows you to find and retrieve, engage with, or create a variety of different resources including the following: Tweets, Direct Messages, Spaces, Lists, users, and more. \n",
        "\n",
        " - Resource from U.S. Energy Information Administration <br>\n",
        "\n",
        " The U.S. Energy Information Administration (EIA) is a principal agency of the U.S. Federal Statistical System responsible for collecting, analyzing, and disseminating energy information to promote sound policymaking, efficient markets, and public understanding of energy and its interaction with the economy and the environment. EIA programs cover data on coal, petroleum, natural gas, electric, renewable and nuclear energy. EIA is part of the U.S. Department of Energy. \n",
        " Reference link : https://www.eia.gov/\n",
        "\n",
        "\n",
        "### Data Type\n",
        " - Text Data <br>\n",
        "\n",
        "I used twitter API to scratch mutiple keywords:**\"energy\" \"gas\" \"electricity\" \"price\" \"\" \"USA\"** to gather comments from twiter about their opinion about the energy consumption and energy economy. I use these data to analyze the positive and negative opinion. I can detect the internet users' attitudes to energy influence on economy. I can also use this datasets to define the relationship between economy and data. The keywords may not clear enough for me to analysis but I will adjust it later for future research. I used for loop to search over 600 tweets in order to make comprehensive datasets. I will collect more in the future to scratch over 2000 tweets in order to make sure my results are accurate. I plan to detect the frequency of words to gain a plot. More than this, I plan to use Naive Bytes to give each tweet a positive or negative attitude.\n",
        "\n",
        " - Numerical Data\n",
        "\n",
        "### Twitter API in Python\n",
        "- Step 1: The python package we will use in gathering data."
      ]
    },
    {
      "cell_type": "code",
      "execution_count": null,
      "id": "d683238c",
      "metadata": {},
      "outputs": [],
      "source": [
        "import json \n",
        "import tweepy\n",
        "import requests\n",
        "from pandas import json_normalize \n",
        "import pandas as pd"
      ]
    },
    {
      "cell_type": "markdown",
      "id": "15e3ee41",
      "metadata": {},
      "source": [
        "- Step 2: Using the keys from Twitter and defined key words to scratch data into json file"
      ]
    },
    {
      "cell_type": "code",
      "execution_count": null,
      "id": "3a8f836c",
      "metadata": {},
      "outputs": [],
      "source": [
        "# READ FILE\n",
        "f = open(\"/Users/apple/Desktop/anly-501-project-HuitingSong-1/codes/01-data-gathering/api-keys.json\")\n",
        "input=json.load(f); \n",
        "\n",
        "# LOAD KEYS INTO API\n",
        "consumer_key=input[\"consumer_key\"]    \n",
        "consumer_secret=input[\"consumer_secret\"]    \n",
        "access_token=input[\"access_token\"]    \n",
        "access_token_secret=input[\"access_token_secret\"]    \n",
        "bearer_token=input[\"bearer_token\"]\n",
        "\n",
        "# Set up Connection\n",
        "auth = tweepy.OAuthHandler(consumer_key, consumer_secret)\n",
        "auth.set_access_token(access_token, access_token_secret)\n",
        "api = tweepy.API(auth)\n",
        "\n",
        "# Add the search_twitter function here.\n",
        "def search_twitter(query, max_results,tweet_fields, bearer_token = bearer_token):\n",
        "    headers = {\"Authorization\": \"Bearer {}\".format(bearer_token)}\n",
        "    url = \"https://api.twitter.com/2/tweets/search/recent?query={}&max_results={}&{}\".format(query, max_results,tweet_fields)\n",
        "    print(\"--------------\",url,\"--------------\")\n",
        "    response = requests.request(\"GET\", url, headers=headers)\n",
        "    if response.status_code != 200:\n",
        "        raise Exception(response.status_code, response.text)\n",
        "    return response.json()\n",
        "\n",
        "tweet_fields = \"tweet.fields=text,author_id,created_at,lang\"\n",
        "\n",
        "data = \"/Users/apple/Desktop/anly-501-project-HuitingSong-1/data/raw data/\"\n",
        "search_tweets = [\"energy\",\"energy economy\",\"consumption\",\"data\",\"USA\"]\n",
        "for idx,val in enumerate(search_tweets):\n",
        "    tweets_jsondump = []\n",
        "    json_response1 = search_twitter(query = str(val), max_results = 100, tweet_fields = tweet_fields, bearer_token=bearer_token)\n",
        "    json_response2 = search_twitter(query = str(val), max_results = 100, tweet_fields = tweet_fields, bearer_token=bearer_token)\n",
        "    json_response3 = search_twitter(query = str(val), max_results = 100, tweet_fields = tweet_fields, bearer_token=bearer_token)\n",
        "    json_response4 = search_twitter(query = str(val), max_results = 100, tweet_fields = tweet_fields, bearer_token=bearer_token)\n",
        "    json_response5 = search_twitter(query = str(val), max_results = 100, tweet_fields = tweet_fields, bearer_token=bearer_token)\n",
        "    json_response6 = search_twitter(query = str(val), max_results = 100, tweet_fields = tweet_fields, bearer_token=bearer_token)\n",
        "    for i in json_response1['data']:\n",
        "        tweets_jsondump.append(i)\n",
        "    for i in json_response2['data']:\n",
        "        tweets_jsondump.append(i)\n",
        "    for i in json_response3['data']:\n",
        "        tweets_jsondump.append(i)\n",
        "    for i in json_response4['data']:\n",
        "        tweets_jsondump.append(i)\n",
        "    for i in json_response5['data']:\n",
        "        tweets_jsondump.append(i)\n",
        "    for i in json_response6['data']:\n",
        "        tweets_jsondump.append(i)\n",
        "    with open(data+str(val)+'.json','w') as json_file:\n",
        "        json.dump(tweets_jsondump,json_file)\n",
        "        json_file.close()"
      ]
    },
    {
      "cell_type": "markdown",
      "id": "69fbbb74",
      "metadata": {},
      "source": [
        "- Step 3: Normalize the json file and form a data frame "
      ]
    },
    {
      "cell_type": "code",
      "execution_count": null,
      "id": "11d4c2fb",
      "metadata": {},
      "outputs": [],
      "source": [
        "twitterdf1 = json_normalize(json_response1,\"data\")\n",
        "twitterdf2 = json_normalize(json_response2,\"data\")\n",
        "twitterdf3 = json_normalize(json_response3,\"data\")\n",
        "twitterdf4 = json_normalize(json_response4,\"data\")\n",
        "twitterdf5 = json_normalize(json_response5,\"data\")\n",
        "twitterdf6 = json_normalize(json_response6,\"data\")\n",
        "twitterdf = [twitterdf1,twitterdf2,twitterdf3,twitterdf4,twitterdf5,twitterdf6]\n",
        "twitterdf = pd.concat(twitterdf)\n",
        "twitterdf"
      ]
    },
    {
      "cell_type": "markdown",
      "id": "c129bfa2",
      "metadata": {},
      "source": [
        "- Step 4: Save the data frame as csv file for futhur using"
      ]
    },
    {
      "cell_type": "code",
      "execution_count": null,
      "id": "e40732a8",
      "metadata": {},
      "outputs": [],
      "source": [
        "twitterdf.to_csv(\"/Users/apple/Desktop/anly-501-project-HuitingSong-1/data/raw data/twitterpython.csv\")"
      ]
    }
  ],
  "metadata": {
    "kernelspec": {
      "display_name": "Python 3.11.0 64-bit",
      "language": "python",
      "name": "python3"
    },
    "language_info": {
      "name": "python",
      "version": "3.11.0"
    },
    "vscode": {
      "interpreter": {
        "hash": "1a1af0ee75eeea9e2e1ee996c87e7a2b11a0bebd85af04bb136d915cefc0abce"
      }
    }
  },
  "nbformat": 4,
  "nbformat_minor": 5
}
